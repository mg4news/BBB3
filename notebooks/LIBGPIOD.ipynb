{
 "cells": [
  {
   "cell_type": "markdown",
   "metadata": {},
   "source": [
    "# Using the Linux GPIO character device and LIBGPIOD"
   ]
  },
  {
   "cell_type": "markdown",
   "metadata": {},
   "source": [
    "---\n",
    "## Disclaimer:\n",
    "Because:\n",
    "- I am only using one dynamically linked file, AND\n",
    "- I haven't created a separate disk for cross copiled linked libraries, AND\n",
    "- quite frankly I have NOT yet found a sensible comprehensible useful human readable step by step description how to set up and use \"pkg-config\" with cross compilation..\n",
    "\n",
    "I came up with a simplified way of doing this"
   ]
  },
  {
   "cell_type": "markdown",
   "metadata": {},
   "source": [
    "---\n",
    "## Install LIBGPIOD on the BBB3 target\n",
    "\n",
    "NOTE: All of this is run on the BBB3 target device.."
   ]
  },
  {
   "cell_type": "markdown",
   "metadata": {},
   "source": [
    "### Download the files\n",
    "```\n",
    "cd ~\n",
    "mkdir builds\n",
    "cd builds\n",
    "sudo apt-get install -y libtool pkg-config autoconf-archive\n",
    "sudo apt-get install -y build-essential git\n",
    "git clone git://git.kernel.org/pub/scm/libs/libgpiod/libgpiod.git\n",
    "```"
   ]
  },
  {
   "cell_type": "markdown",
   "metadata": {},
   "source": [
    "### Compile the library and tools\n",
    "There is a step in here to create an \"m4\" durectory. This prevents occasional autoconf errors.\n",
    "\n",
    "Note that this does not build the python bindings\n",
    "```\n",
    "cd libgpiod\n",
    "mkdir m4\n",
    "./autogen.sh --enable-tools=yes --prefix=/usr/local\n",
    "make\n",
    "sudo make install\n",
    "sudo ldconfig\n",
    "```"
   ]
  },
  {
   "cell_type": "markdown",
   "metadata": {},
   "source": [
    "### Test the installation\n",
    "Test for the header file:\n",
    "```\n",
    "pkg-config --cflags libgpiod\n",
    "```\n",
    "This should return:\n",
    "```\n",
    "-I/usr/local/include\n",
    "```\n",
    "\n",
    "Test for the library:\n",
    "```\n",
    "pkg-config --lib libgpiod\n",
    "```\n",
    "This should return:\n",
    "```\n",
    "-L/usr/local/lib -lgpiod\n",
    "```"
   ]
  },
  {
   "cell_type": "markdown",
   "metadata": {},
   "source": [
    "---\n",
    "## Set up the host environment\n",
    "\n",
    "This is a **simple hack**. On the Linux host (i.e. the cross compile environment):\n",
    "- cd to \"/usr/local/lib\"\n",
    "- copy all the libgpiod files from the BBB3 target to the host. This lets the cross compiling work without needing to mess with pkg-config paths, i.e.\n",
    "  - sudo scp debian@192.168.1.65:/usr/local/lib/libgpiod.* .\n",
    "  \n",
    "The rest is managed in the makefile and the BBB3 repository:\n",
    "- there is a \"sysinc\" directory in BBB3 repository that has the headers of the system dynamic libraries\n",
    "- the makefiles have the paths set up correctly, not using pkg-config"
   ]
  },
  {
   "cell_type": "code",
   "execution_count": null,
   "metadata": {},
   "outputs": [],
   "source": []
  }
 ],
 "metadata": {
  "kernelspec": {
   "display_name": "Python 3",
   "language": "python",
   "name": "python3"
  },
  "language_info": {
   "codemirror_mode": {
    "name": "ipython",
    "version": 3
   },
   "file_extension": ".py",
   "mimetype": "text/x-python",
   "name": "python",
   "nbconvert_exporter": "python",
   "pygments_lexer": "ipython3",
   "version": "3.6.7"
  }
 },
 "nbformat": 4,
 "nbformat_minor": 2
}
