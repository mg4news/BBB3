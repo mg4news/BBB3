{
 "cells": [
  {
   "cell_type": "markdown",
   "metadata": {},
   "source": [
    "# Using the Linux GPIO character device and LIBGPIOD"
   ]
  },
  {
   "cell_type": "markdown",
   "metadata": {},
   "source": [
    "---\n",
    "## Disclaimer:\n",
    "Because:\n",
    "- I am only using one dynamically linked file, AND\n",
    "- I haven't created a separate disk for cross copiled linked libraries, AND\n",
    "- quite frankly I have NOT yet found a sensible comprehensible useful human readable step by step description how to set up and use \"pkg-config\" with cross compilation..\n",
    "\n",
    "I came up with a simplified way of doing this"
   ]
  },
  {
   "cell_type": "markdown",
   "metadata": {},
   "source": [
    "---\n",
    "## Installing LIBGPIOD on the Host\n",
    "**NOTE:** All of this is run on the host development PC\n",
    "\n",
    "I made the libgpiod project part of my project on my **HOST** development machine. The git repo is **already** linked as a git submodule in the BBB3 project. If you go into the root of the BBB3 project (/workspace/BBB3) you will see an empty directory called libgpiod. I did this because want my project to stay up to date with libgpiod project without separate git management or cross contamination.\n",
    "\n",
    "The directory is empty, this is because the git submodule needs to be initialised **once**:\n",
    "```\n",
    "cd /workspace/BBB3\n",
    "git submodule init\n",
    "git submodule update\n",
    "```\n",
    "The this point the directory will be populated."
   ]
  },
  {
   "cell_type": "markdown",
   "metadata": {},
   "source": [
    "---\n",
    "## Install LIBGPIOD on the BBB3 target\n",
    "\n",
    "**NOTE:** All of this is run on the BBB3 target device.."
   ]
  },
  {
   "cell_type": "markdown",
   "metadata": {},
   "source": [
    "```\n",
    "cd ~\n",
    "mkdir builds\n",
    "cd builds\n",
    "sudo apt-get install -y libtool pkg-config autoconf-archive\n",
    "sudo apt-get install -y build-essential git\n",
    "git clone git://git.kernel.org/pub/scm/libs/libgpiod/libgpiod.git\n",
    "```"
   ]
  },
  {
   "cell_type": "markdown",
   "metadata": {},
   "source": [
    "### Compile the library and tools\n",
    "There is a step in here to create an \"m4\" durectory. This prevents occasional autoconf errors.\n",
    "\n",
    "**Note:**\n",
    "- this builds in the CPP (cxx) bindings\n",
    "- this does not build the python bindings. To add theese you would add \"--enable-bindings-python\" at the configure stage\n",
    "```\n",
    "cd libgpiod\n",
    "mkdir m4\n",
    "./autogen.sh --enable-tools=yes --enable-bindings-cxx --prefix=/usr/local\n",
    "make\n",
    "sudo make install\n",
    "sudo ldconfig\n",
    "```"
   ]
  },
  {
   "cell_type": "markdown",
   "metadata": {},
   "source": [
    "### Test the installation\n",
    "Test for the header files:\n",
    "```\n",
    "pkg-config --cflags libgpiod\n",
    "```\n",
    "This should return:\n",
    "```\n",
    "-I/usr/local/include\n",
    "```\n",
    "\n",
    "Test for the library:\n",
    "```\n",
    "pkg-config --lib libgpiod\n",
    "```\n",
    "This should return:\n",
    "```\n",
    "-L/usr/local/lib -lgpiod\n",
    "```"
   ]
  },
  {
   "cell_type": "markdown",
   "metadata": {},
   "source": [
    "---\n",
    "## Set up the host environment\n",
    "\n",
    "This is a **simple hack**. On the **Linux host** (i.e. the cross compile environment) copy all the libgpiod files from the BBB3 target to the host. This lets the cross compiling work without needing to mess with pkg-config paths.\n",
    "\n",
    "```\n",
    "cd /usr/local/lib\n",
    "sudo scp debian@192.168.1.65:/usr/local/lib/libgpiod.* .\n",
    "```\n",
    "  \n",
    "The rest is managed in the makefile and the BBB3 repository by refering to the linked libgpiod subproject"
   ]
  },
  {
   "cell_type": "code",
   "execution_count": null,
   "metadata": {},
   "outputs": [],
   "source": []
  }
 ],
 "metadata": {
  "kernelspec": {
   "display_name": "Python 3",
   "language": "python",
   "name": "python3"
  },
  "language_info": {
   "codemirror_mode": {
    "name": "ipython",
    "version": 3
   },
   "file_extension": ".py",
   "mimetype": "text/x-python",
   "name": "python",
   "nbconvert_exporter": "python",
   "pygments_lexer": "ipython3",
   "version": "3.6.7"
  }
 },
 "nbformat": 4,
 "nbformat_minor": 2
}
