{
 "cells": [
  {
   "cell_type": "markdown",
   "metadata": {},
   "source": [
    "# Setup for BBB3 cross-compile on Linux\n",
    "\n",
    "**Note**: The \"user\" in all of the instructions is \"you\". In your case it replace it with your user name, i.e. the name of your home directory. As an example, i am using \"martin\" in all the examples \n",
    "- /home/martin\n",
    "\n",
    "**Some terms**:\n",
    "- **Host system** = the PC Linux system, i.e. linux running on the machne that does the cross-compile\n",
    "- **Target system** = the BBB3 device"
   ]
  },
  {
   "cell_type": "markdown",
   "metadata": {},
   "source": [
    "---\n",
    "# Pre-requisites for Linux on host PC\n",
    "\n",
    "My system is Linux Mint 19.1 Tessa Cinnamon 64-bit. (https://www.linuxmint.com/edition.php?id=261), All of the instructions apply to Ubuntu as well, Mint is just personal preference.\n",
    "\n",
    "## Install build-essentials\n",
    "This is a collection of host development tools. You wont need all of them, its is just easier to install like this. Not sure if **git** is included, but I added it just in case."
   ]
  },
  {
   "cell_type": "markdown",
   "metadata": {},
   "source": [
    "Run:\n",
    "```\n",
    "sudo apt-get update\n",
    "sudo apt-get install build-essential\n",
    "sudo apt-get git\n",
    "```"
   ]
  },
  {
   "cell_type": "markdown",
   "metadata": {},
   "source": [
    "## Java (OpenJDK)\n",
    "you will need a JDK to run Eclipse. First check if you have Java installed by running:\n",
    "```\n",
    "java --version\n",
    "```\n",
    "You should see something like:"
   ]
  },
  {
   "cell_type": "markdown",
   "metadata": {},
   "source": [
    "```\n",
    "openjdk 11.0.3 2019-04-16 LTS\n",
    "OpenJDK Runtime Environment Zulu11.31+11-CA (build 11.0.3+7-LTS)\n",
    "OpenJDK 64-Bit Server VM Zulu11.31+11-CA (build 11.0.3+7-LTS, mixed mode)\n",
    "```"
   ]
  },
  {
   "cell_type": "markdown",
   "metadata": {},
   "source": [
    "If you get\n",
    "```\n",
    "java: command not found\n",
    "```\n",
    "then you will need to install a Java version. Oracle/Sun Java is not free any more so you need to use an OpenJDK version. To install:"
   ]
  },
  {
   "cell_type": "markdown",
   "metadata": {},
   "source": [
    "Run:\n",
    "```\n",
    "sudo apt-key adv --keyserver hkp://keyserver.ubuntu.com:80 --recv-keys 0xB1998361219BD9C9\n",
    "sudo apt-add-repository 'deb http://repos.azulsystems.com/ubuntu stable main'\n",
    "sudo apt-get update\n",
    "sudo apt-get install zulu-11\n",
    "```"
   ]
  },
  {
   "cell_type": "markdown",
   "metadata": {},
   "source": [
    "Once this is in place check the version, i.e.\n",
    "```\n",
    "java --version\n",
    "```\n",
    "The result should be something like:"
   ]
  },
  {
   "cell_type": "markdown",
   "metadata": {},
   "source": [
    "```\n",
    "openjdk 11.0.3 2019-04-16 LTS\n",
    "OpenJDK Runtime Environment Zulu11.31+11-CA (build 11.0.3+7-LTS)\n",
    "OpenJDK 64-Bit Server VM Zulu11.31+11-CA (build 11.0.3+7-LTS, mixed mode)\n",
    "```"
   ]
  },
  {
   "cell_type": "markdown",
   "metadata": {},
   "source": [
    "## Cross-compiler toolchain\n",
    "\n",
    "The compiler on the host needs to be the same as the one on the BBB3 target. SSH into the BBB3 and run:\n",
    "```\n",
    "gcc --version\n",
    "```\n",
    "The result I got was:"
   ]
  },
  {
   "cell_type": "markdown",
   "metadata": {},
   "source": [
    "```\n",
    "gcc (Debian 6.3.0-18+deb9u1) 6.3.0 20170516\n",
    "Copyright (C) 2016 Free Software Foundation, Inc.\n",
    "This is free software; see the source for copying conditions.  There is NO\n",
    "warranty; not even for MERCHANTABILITY or FITNESS FOR A PARTICULAR PURPOSE.\n",
    "```"
   ]
  },
  {
   "cell_type": "markdown",
   "metadata": {},
   "source": [
    "The webpage for the **matching** GCC version for the Linux host machine is here:\n",
    "- https://releases.linaro.org/components/toolchain/binaries/6.3-2017.05/\n",
    "\n",
    "There is a requirement that the \"glibc\" version on the **host** is at least at version 2.14. To check this run:\n",
    "```\n",
    "ldd --version\n",
    "```\n",
    "In my case the response is OK, if not you make need to update the glibc version. If you have build-essentials instaled you should be fine."
   ]
  },
  {
   "cell_type": "markdown",
   "metadata": {},
   "source": [
    "Result:\n",
    "```\n",
    "ldd (Ubuntu GLIBC 2.27-3ubuntu1) 2.27\n",
    "Copyright (C) 2018 Free Software Foundation, Inc.\n",
    "This is free software; see the source for copying conditions.  There is NO\n",
    "warranty; not even for MERCHANTABILITY or FITNESS FOR A PARTICULAR PURPOSE.\n",
    "Written by Roland McGrath and Ulrich Drepper.\n",
    "```"
   ]
  },
  {
   "cell_type": "markdown",
   "metadata": {},
   "source": [
    "### Download the toolchain\n",
    "I decided to put the toolchain into a directory in my workspace, so it doesn't conflict with the existing Linux host GCC. First I downloaded it to the \"Downloads\" directory (/home/martin/Downloads)"
   ]
  },
  {
   "cell_type": "markdown",
   "metadata": {},
   "source": [
    "Run:\n",
    "```\n",
    "cd ~/Downloads\n",
    "wget -c https://releases.linaro.org/components/toolchain/binaries/6.3-2017.05/arm-linux-gnueabihf/gcc-linaro-6.3.1-2017.05-x86_64_arm-linux-gnueabihf.tar.xz\n",
    "```"
   ]
  },
  {
   "cell_type": "markdown",
   "metadata": {},
   "source": [
    "- Using the file explorer navigate to \"Downloads\"\n",
    "- Double click on \"gcc_linaro-......tgz\"\n",
    "- Once it opens, copy the \"gcc_...\" directory to \"/workspace\"\n",
    "- Rename \"/workspace/gcc-linaro-...\" to \"/workspace/gcc-bbb3\"\n",
    "  - Shorter path\n",
    "  - Simpler path\n",
    "  \n",
    "To check it is all good run the following 9result below)\n",
    "```\n",
    "/workspace/gcc-bbb3/bin/arm-linux-gnueabihf-gcc --version\n",
    "```"
   ]
  },
  {
   "cell_type": "markdown",
   "metadata": {},
   "source": [
    "Result:\n",
    "```\n",
    "arm-linux-gnueabihf-gcc (Linaro GCC 6.3-2017.05) 6.3.1 20170404\n",
    "Copyright (C) 2016 Free Software Foundation, Inc.\n",
    "This is free software; see the source for copying conditions.  There is NO\n",
    "warranty; not even for MERCHANTABILITY or FITNESS FOR A PARTICULAR PURPOSE.\n",
    "```"
   ]
  },
  {
   "cell_type": "markdown",
   "metadata": {},
   "source": [
    "---\n",
    "# Prerequisites for the Target (BBB3)\n",
    "If the BBB3 is already up and running with Debian then the only thing to do is to install the **gdbserver**. SSH into the BBB3 and run:\n",
    "```\n",
    "sudo apt-get update\n",
    "sudo apg-get install gdbserver\n",
    "```"
   ]
  },
  {
   "cell_type": "code",
   "execution_count": null,
   "metadata": {},
   "outputs": [],
   "source": []
  }
 ],
 "metadata": {
  "kernelspec": {
   "display_name": "Python 3",
   "language": "python",
   "name": "python3"
  },
  "language_info": {
   "codemirror_mode": {
    "name": "ipython",
    "version": 3
   },
   "file_extension": ".py",
   "mimetype": "text/x-python",
   "name": "python",
   "nbconvert_exporter": "python",
   "pygments_lexer": "ipython3",
   "version": "3.6.7"
  }
 },
 "nbformat": 4,
 "nbformat_minor": 2
}
