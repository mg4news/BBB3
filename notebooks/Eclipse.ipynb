{
 "cells": [
  {
   "cell_type": "markdown",
   "metadata": {},
   "source": [
    "# Eclipse Setup"
   ]
  },
  {
   "cell_type": "markdown",
   "metadata": {},
   "source": [
    "---\n",
    "## Installing Eclipse\n",
    "You can pull Eclipse using \"apt-get install\", but I prefer to get it directly from the Eclipse site. That way I get the latest, and I manage the update from Eclipse itself. \n",
    "- Go to the Eclipse packages page (https://www.eclipse.org/downloads/packages/)\n",
    "- Select \"Eclipse IDE for C/C++ Developers\"and download the Linux version\n",
    "- Once downloaded, double click the .tgz package. \n",
    "- My installation (I would recommend something similar)\n",
    "  - Extract the \"eclipse/\" directory into my \"home\", i.e. /home/\"user\" (/home/martin/eclipse in my case)\n",
    "  - Create a \"launcher\", i.e. a desktop icon like this:\n",
    "    - Right click anywhere on the Linux desktop\n",
    "    - Select \"create launcher\"\n",
    "    - Name: Eclipse\n",
    "    - Description: leave empty\n",
    "    - Command: /home/martin/eclipse"
   ]
  },
  {
   "cell_type": "markdown",
   "metadata": {},
   "source": [
    "---\n",
    "## Workspaces\n",
    "When you run Eclipse the first time, it want a workspace. A workspace is where your projects are stored. You can create one in your \"home\", but I use a workspace at the base directory. It can help with shorter path lengths. You will need to change ownership to you, i.e. \"user\". To do this follow the setup below, then set the Eclipse workspace to it. Note, if you use the same workspace path as me, and the same compiler directory, then any example projects will work in your environment without modification.\n",
    "```\n",
    "cd /\n",
    "mkdir workspace\n",
    "chown -R martin /workspace\n",
    "```"
   ]
  },
  {
   "cell_type": "markdown",
   "metadata": {},
   "source": [
    "---\n",
    "## EGit\n",
    "This is the Eclipse foundation standard pluging for **git**. Once Eclipse is up an running:\n",
    "- Select \"Help\" from the menu bar\n",
    "- Select \"Eclipse Marketplace\"\n",
    "- Search for \"EGit\"\n",
    "- Select \"Install\" from the EGit panel, and use the defaults\n",
    "- Restart Eclipse"
   ]
  },
  {
   "cell_type": "markdown",
   "metadata": {},
   "source": [
    "----\n",
    "## Creating BBB3 project\n",
    "This assumes you are using the workspace directory **/workspace** and have managed ownership with **chown**. There are two steps to this:\n",
    "- clone from github\n",
    "- import to Eclipse\n",
    "\n",
    "#### Clone BBB3\n",
    "```\n",
    "cd /workspace\n",
    "git clone https://github.com/mg4news/BBB3.git\n",
    "```\n",
    "\n",
    "#### Importing the project\n",
    "From Eclipse:\n",
    "- Select **File** from the menu bar\n",
    "- Select **Import** from the drop down\n",
    "- Choose C/C++, Existing code as a makefile project, select Next..\n",
    "- In the **Import Existing Code** dialog:\n",
    "  - Ignore **Project Name**\n",
    "  - Select **Browse** beside **Existing Code Location**\n",
    "  - Navigate to the code, should be /workspace/BBB3, select it. This will also populate the **Project Name** with BBB3\n",
    "  - In **Languages** select both C and C++\n",
    "  - In **Toolchain for Indexer settings** select the **Linux GCC** toolchain. This is not for compiling, just to resolve symbols and includes in the editor. \n",
    "  - Select **Finish**\n",
    "\n",
    "You should now have the BBB3 project in the Eclipse Project Explorer. It will already be annotated as a git project. You will be able to:\n",
    "- make local commits\n",
    "- pull updates from the github repository\n",
    "\n",
    "You **will not be able** to push updates back to github."
   ]
  },
  {
   "cell_type": "markdown",
   "metadata": {},
   "source": [
    "---\n",
    "## Creating makefile targets\n",
    "If you are using all of the paths described in these notebooks then you will be able to build the applications from the command line, as follows:\n",
    "- In the terminal, cd to /workspace/apps/[appname]\n",
    "- \"make clean\" will delete all the build products (.o, executables, etc)\n",
    "- \"make all\" will build the executable\n",
    "- \"make strip\" will build the executable and strip out all excess symbols, i.e. small executable for production\n",
    "\n",
    "#### Eclipse targets\n",
    "- In Eclipse select the **Build Targets** tab from the right hand pane\n",
    "- For now make sure the **Hide Empty Folders** icon is **unselected** (the right most icon, a folder with a strikethrough)\n",
    "- Navigate to an app directory, i.e. BBB3->apps->\"appname\"\n",
    "- Right click the app directory and select **New**\n",
    "  - Target name: Descriptive name, i.e. Clean, Build, Build Stripped, etc\n",
    "  - Uncheck the **Same as the target name** checkbox\n",
    "  - Leave the **Build Target** box empty\n",
    "  - Uncheck the **Use builder settings** checkbox\n",
    "  - In the **Build Command** box enter one of:\n",
    "    - make clean\n",
    "    - make --quiet all\n",
    "    - make --quiet strip\n",
    "  - Check the **Stop on first build error** checkbox\n",
    "  - Uncheck the **Run all project builders** checkbox\n",
    "- Do this for all three target types\n",
    "\n",
    "Once you have finished, test by double clicking each of the targets. You can select the **Hide Empty Folders** icon, then you only see a folders with targets"
   ]
  },
  {
   "cell_type": "markdown",
   "metadata": {},
   "source": [
    "---\n",
    "## Remote Execution\n",
    "For this example, assume we are building a target for BBB3/apps/gpio/gpio\n",
    "- Build the app. This will cause some of the options to default correctly as you add the run target\n",
    "- From the Eclipse menu, select the down arrow beside the \"Run\" icon (green circle with white arrow in it)\n",
    "- Select **Run Configurations**\n",
    "- Select **C/C++ Remote Application**\n",
    "- Click the **New Configuration** icon (top left)\n",
    "  - Name: \"BBB3 gpio test\". This is a descriptive name, you could use something different\n",
    "  - Project: BBB3 (if you are using this project structure and name)\n",
    "  - C/C++ application: apps/gpio/gpio (should already be populated, if not navigate to the **executable**\n",
    "  - Build (if required) before launching: Disable by selecting **Disable auto build**\n",
    "  - Connection: Create new (select **New...*). Note, you will use this with all run/debug targets\n",
    "    - Connection type: choose **SSH**\n",
    "    - Connection Name: I used **BBB3**\n",
    "    - Host: IP address of BBB3 \n",
    "    - User: debian\n",
    "    - Select **Password based authentication**\n",
    "    - Password: temppwd\n",
    "    - **Finish**. This will put you back in the main remote application dialog again\n",
    "  - Remote Absolute File Path for C/C++ Application: Select **Browse.**. This will connect to the BBB3. Browse to \"tests\", double click to select. click **OK**\n",
    "    - this should result in \"/home/debian/gpio\" being the path. If it is not then you can simply manually edit the path\n",
    "  - Commands to execute before applicatino: Leave empty\n",
    "  - Skip download to target path: Leave unchecked\n",
    "  - **Apply**\n",
    "\n",
    "If you run this target it will push the executable to the BBB3, and run it. Any output will appear in the Eclipse console. "
   ]
  },
  {
   "cell_type": "markdown",
   "metadata": {},
   "source": [
    "---\n",
    "## Remote Debug\n",
    "For this example, assume we are building a target for BBB3/apps/gpio/gpio, AND that you are using the same workspace directory and toolchain path. \n",
    "- Build the app. This will cause some of the options to default correctly as you add the run target. **Do not use the stripped build**, this will remove debug symbols\n",
    "- From the Eclipse menu, select the down arrow beside the \"Debug\" icon (green bug)\n",
    "- Select **Debug Configurations**. You should see the target you just created for remote execution. The only thing needed is to set up the remote GDB stuff. You already have **gdbserver** installed on the BBB3 as part of the pre-requisites.\n",
    "- Select the **BBB3 gpio test** remote application\n",
    "- Select the **Debugger** tab\n",
    "- Change the **GDB Debugger** to \"/workspace/gcc-bbb3/bin/arm-linux-gnueabihf-gdb\"\n",
    "- **Apply**\n",
    "\n",
    "If you run this target it will launch the remote application, change the Eclipse perspective to debug, and will pause the remote debug on the entry to main(). "
   ]
  },
  {
   "cell_type": "code",
   "execution_count": null,
   "metadata": {},
   "outputs": [],
   "source": []
  }
 ],
 "metadata": {
  "kernelspec": {
   "display_name": "Python 3",
   "language": "python",
   "name": "python3"
  },
  "language_info": {
   "codemirror_mode": {
    "name": "ipython",
    "version": 3
   },
   "file_extension": ".py",
   "mimetype": "text/x-python",
   "name": "python",
   "nbconvert_exporter": "python",
   "pygments_lexer": "ipython3",
   "version": "3.6.7"
  }
 },
 "nbformat": 4,
 "nbformat_minor": 2
}
